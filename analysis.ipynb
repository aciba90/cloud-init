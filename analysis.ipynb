{
 "cells": [
  {
   "cell_type": "code",
   "execution_count": 16,
   "id": "16db33e4",
   "metadata": {},
   "outputs": [],
   "source": [
    "import pandas as pd\n",
    "import seaborn as sns"
   ]
  },
  {
   "cell_type": "code",
   "execution_count": 2,
   "id": "e60887b2",
   "metadata": {},
   "outputs": [],
   "source": [
    "df = pd.read_csv(\"./tmp/output/data.csv\")"
   ]
  },
  {
   "cell_type": "code",
   "execution_count": 21,
   "id": "3c7f32e2",
   "metadata": {},
   "outputs": [],
   "source": [
    "# Drop netplan time from baseline tests as that one comes from 1st boot and it should not be compared.\n",
    "df.loc[df[\"base_or_update\"] == \"baseline\", \"netplan_time\"] = 0\n",
    "\n",
    "# Categories:\n",
    "df['release'] = df['release'].astype('category')\n",
    "df['base_or_update'] = df['base_or_update'].astype('category')"
   ]
  },
  {
   "cell_type": "code",
   "execution_count": 22,
   "id": "52535ef8",
   "metadata": {},
   "outputs": [
    {
     "data": {
      "text/html": [
       "<div>\n",
       "<style scoped>\n",
       "    .dataframe tbody tr th:only-of-type {\n",
       "        vertical-align: middle;\n",
       "    }\n",
       "\n",
       "    .dataframe tbody tr th {\n",
       "        vertical-align: top;\n",
       "    }\n",
       "\n",
       "    .dataframe thead th {\n",
       "        text-align: right;\n",
       "    }\n",
       "</style>\n",
       "<table border=\"1\" class=\"dataframe\">\n",
       "  <thead>\n",
       "    <tr style=\"text-align: right;\">\n",
       "      <th></th>\n",
       "      <th>release</th>\n",
       "      <th>timestamp</th>\n",
       "      <th>base_or_update</th>\n",
       "      <th>systemd_local_time</th>\n",
       "      <th>local_time</th>\n",
       "      <th>netplan_time</th>\n",
       "    </tr>\n",
       "  </thead>\n",
       "  <tbody>\n",
       "    <tr>\n",
       "      <th>0</th>\n",
       "      <td>jammy</td>\n",
       "      <td>1679936127</td>\n",
       "      <td>update</td>\n",
       "      <td>2.335</td>\n",
       "      <td>0.849</td>\n",
       "      <td>0.394</td>\n",
       "    </tr>\n",
       "    <tr>\n",
       "      <th>1</th>\n",
       "      <td>jammy</td>\n",
       "      <td>1679937719</td>\n",
       "      <td>update</td>\n",
       "      <td>2.582</td>\n",
       "      <td>0.820</td>\n",
       "      <td>0.394</td>\n",
       "    </tr>\n",
       "    <tr>\n",
       "      <th>2</th>\n",
       "      <td>jammy</td>\n",
       "      <td>1679938094</td>\n",
       "      <td>baseline</td>\n",
       "      <td>1.844</td>\n",
       "      <td>0.330</td>\n",
       "      <td>0.000</td>\n",
       "    </tr>\n",
       "    <tr>\n",
       "      <th>3</th>\n",
       "      <td>jammy</td>\n",
       "      <td>1679938446</td>\n",
       "      <td>baseline</td>\n",
       "      <td>1.902</td>\n",
       "      <td>0.342</td>\n",
       "      <td>0.000</td>\n",
       "    </tr>\n",
       "    <tr>\n",
       "      <th>4</th>\n",
       "      <td>jammy</td>\n",
       "      <td>1679936529</td>\n",
       "      <td>update</td>\n",
       "      <td>2.602</td>\n",
       "      <td>0.741</td>\n",
       "      <td>0.323</td>\n",
       "    </tr>\n",
       "  </tbody>\n",
       "</table>\n",
       "</div>"
      ],
      "text/plain": [
       "  release   timestamp base_or_update  systemd_local_time  local_time  \\\n",
       "0   jammy  1679936127         update               2.335       0.849   \n",
       "1   jammy  1679937719         update               2.582       0.820   \n",
       "2   jammy  1679938094       baseline               1.844       0.330   \n",
       "3   jammy  1679938446       baseline               1.902       0.342   \n",
       "4   jammy  1679936529         update               2.602       0.741   \n",
       "\n",
       "   netplan_time  \n",
       "0         0.394  \n",
       "1         0.394  \n",
       "2         0.000  \n",
       "3         0.000  \n",
       "4         0.323  "
      ]
     },
     "execution_count": 22,
     "metadata": {},
     "output_type": "execute_result"
    }
   ],
   "source": [
    "df.head()"
   ]
  },
  {
   "cell_type": "code",
   "execution_count": 23,
   "id": "22d2cd6b",
   "metadata": {},
   "outputs": [],
   "source": [
    "# df[[\"systemd_local_time\", \"local_time\", \"netplan_time\"]][df[\"base_or_update\"] == \"update\"]\n",
    "# df[df[\"base_or_update\"] == \"update\"]"
   ]
  },
  {
   "cell_type": "code",
   "execution_count": 24,
   "id": "7c28678b",
   "metadata": {},
   "outputs": [
    {
     "data": {
      "text/html": [
       "<div>\n",
       "<style scoped>\n",
       "    .dataframe tbody tr th:only-of-type {\n",
       "        vertical-align: middle;\n",
       "    }\n",
       "\n",
       "    .dataframe tbody tr th {\n",
       "        vertical-align: top;\n",
       "    }\n",
       "\n",
       "    .dataframe thead th {\n",
       "        text-align: right;\n",
       "    }\n",
       "</style>\n",
       "<table border=\"1\" class=\"dataframe\">\n",
       "  <thead>\n",
       "    <tr style=\"text-align: right;\">\n",
       "      <th></th>\n",
       "      <th></th>\n",
       "      <th>timestamp</th>\n",
       "      <th>systemd_local_time</th>\n",
       "      <th>local_time</th>\n",
       "      <th>netplan_time</th>\n",
       "    </tr>\n",
       "    <tr>\n",
       "      <th>release</th>\n",
       "      <th>base_or_update</th>\n",
       "      <th></th>\n",
       "      <th></th>\n",
       "      <th></th>\n",
       "      <th></th>\n",
       "    </tr>\n",
       "  </thead>\n",
       "  <tbody>\n",
       "    <tr>\n",
       "      <th rowspan=\"2\" valign=\"top\">bionic</th>\n",
       "      <th>baseline</th>\n",
       "      <td>1.679942e+09</td>\n",
       "      <td>2.0796</td>\n",
       "      <td>0.3144</td>\n",
       "      <td>0.0000</td>\n",
       "    </tr>\n",
       "    <tr>\n",
       "      <th>update</th>\n",
       "      <td>1.679942e+09</td>\n",
       "      <td>2.5285</td>\n",
       "      <td>0.7382</td>\n",
       "      <td>0.3177</td>\n",
       "    </tr>\n",
       "    <tr>\n",
       "      <th rowspan=\"2\" valign=\"top\">focal</th>\n",
       "      <th>baseline</th>\n",
       "      <td>1.679939e+09</td>\n",
       "      <td>2.0543</td>\n",
       "      <td>0.3193</td>\n",
       "      <td>0.0000</td>\n",
       "    </tr>\n",
       "    <tr>\n",
       "      <th>update</th>\n",
       "      <td>1.679939e+09</td>\n",
       "      <td>2.4713</td>\n",
       "      <td>0.7906</td>\n",
       "      <td>0.3528</td>\n",
       "    </tr>\n",
       "    <tr>\n",
       "      <th rowspan=\"2\" valign=\"top\">jammy</th>\n",
       "      <th>baseline</th>\n",
       "      <td>1.679937e+09</td>\n",
       "      <td>2.0433</td>\n",
       "      <td>0.3146</td>\n",
       "      <td>0.0000</td>\n",
       "    </tr>\n",
       "    <tr>\n",
       "      <th>update</th>\n",
       "      <td>1.679937e+09</td>\n",
       "      <td>2.5044</td>\n",
       "      <td>0.7914</td>\n",
       "      <td>0.3482</td>\n",
       "    </tr>\n",
       "  </tbody>\n",
       "</table>\n",
       "</div>"
      ],
      "text/plain": [
       "                           timestamp  systemd_local_time  local_time  \\\n",
       "release base_or_update                                                 \n",
       "bionic  baseline        1.679942e+09              2.0796      0.3144   \n",
       "        update          1.679942e+09              2.5285      0.7382   \n",
       "focal   baseline        1.679939e+09              2.0543      0.3193   \n",
       "        update          1.679939e+09              2.4713      0.7906   \n",
       "jammy   baseline        1.679937e+09              2.0433      0.3146   \n",
       "        update          1.679937e+09              2.5044      0.7914   \n",
       "\n",
       "                        netplan_time  \n",
       "release base_or_update                \n",
       "bionic  baseline              0.0000  \n",
       "        update                0.3177  \n",
       "focal   baseline              0.0000  \n",
       "        update                0.3528  \n",
       "jammy   baseline              0.0000  \n",
       "        update                0.3482  "
      ]
     },
     "execution_count": 24,
     "metadata": {},
     "output_type": "execute_result"
    }
   ],
   "source": [
    "df.groupby([\"release\", \"base_or_update\"]).mean()\n",
    "# There is no substantial difference across releases"
   ]
  },
  {
   "cell_type": "code",
   "execution_count": 25,
   "id": "076db2ba",
   "metadata": {},
   "outputs": [],
   "source": [
    "df_mean = df.drop(columns=[\"release\"]).groupby([\"base_or_update\"]).mean().copy()"
   ]
  },
  {
   "cell_type": "code",
   "execution_count": 26,
   "id": "2e17a317",
   "metadata": {},
   "outputs": [
    {
     "data": {
      "text/html": [
       "<div>\n",
       "<style scoped>\n",
       "    .dataframe tbody tr th:only-of-type {\n",
       "        vertical-align: middle;\n",
       "    }\n",
       "\n",
       "    .dataframe tbody tr th {\n",
       "        vertical-align: top;\n",
       "    }\n",
       "\n",
       "    .dataframe thead th {\n",
       "        text-align: right;\n",
       "    }\n",
       "</style>\n",
       "<table border=\"1\" class=\"dataframe\">\n",
       "  <thead>\n",
       "    <tr style=\"text-align: right;\">\n",
       "      <th></th>\n",
       "      <th>timestamp</th>\n",
       "      <th>systemd_local_time</th>\n",
       "      <th>local_time</th>\n",
       "      <th>netplan_time</th>\n",
       "    </tr>\n",
       "    <tr>\n",
       "      <th>base_or_update</th>\n",
       "      <th></th>\n",
       "      <th></th>\n",
       "      <th></th>\n",
       "      <th></th>\n",
       "    </tr>\n",
       "  </thead>\n",
       "  <tbody>\n",
       "    <tr>\n",
       "      <th>baseline</th>\n",
       "      <td>1.679939e+09</td>\n",
       "      <td>2.059067</td>\n",
       "      <td>0.3161</td>\n",
       "      <td>0.000000</td>\n",
       "    </tr>\n",
       "    <tr>\n",
       "      <th>update</th>\n",
       "      <td>1.679939e+09</td>\n",
       "      <td>2.501400</td>\n",
       "      <td>0.7734</td>\n",
       "      <td>0.339567</td>\n",
       "    </tr>\n",
       "  </tbody>\n",
       "</table>\n",
       "</div>"
      ],
      "text/plain": [
       "                   timestamp  systemd_local_time  local_time  netplan_time\n",
       "base_or_update                                                            \n",
       "baseline        1.679939e+09            2.059067      0.3161      0.000000\n",
       "update          1.679939e+09            2.501400      0.7734      0.339567"
      ]
     },
     "execution_count": 26,
     "metadata": {},
     "output_type": "execute_result"
    }
   ],
   "source": [
    "df_mean"
   ]
  },
  {
   "cell_type": "code",
   "execution_count": 27,
   "id": "bc2653f1",
   "metadata": {},
   "outputs": [
    {
     "data": {
      "text/plain": [
       "timestamp             0.000000\n",
       "systemd_local_time    0.442333\n",
       "local_time            0.457300\n",
       "netplan_time          0.339567\n",
       "dtype: float64"
      ]
     },
     "execution_count": 27,
     "metadata": {},
     "output_type": "execute_result"
    }
   ],
   "source": [
    "# Calculates the increased time when enabling network update on every boot:\n",
    "df_mean.loc[\"baseline\"] *= -1\n",
    "df_mean.sum()"
   ]
  },
  {
   "cell_type": "code",
   "execution_count": 39,
   "id": "4f1f75dd",
   "metadata": {},
   "outputs": [
    {
     "data": {
      "image/png": "[encoded data removed]",
      "text/plain": [
       "<Figure size 597.875x500 with 1 Axes>"
      ]
     },
     "metadata": {},
     "output_type": "display_data"
    }
   ],
   "source": [
    "ax = sns.catplot(data=df, x=\"base_or_update\", y=\"local_time\", hue=\"release\", kind=\"swarm\")\n",
    "ax.figure.savefig(\"./tmp/output/out.png\") "
   ]
  },
  {
   "cell_type": "code",
   "execution_count": null,
   "id": "84da0933",
   "metadata": {},
   "outputs": [],
   "source": []
  }
 ],
 "metadata": {
  "kernelspec": {
   "display_name": "Python 3 (ipykernel)",
   "language": "python",
   "name": "python3"
  },
  "language_info": {
   "codemirror_mode": {
    "name": "ipython",
    "version": 3
   },
   "file_extension": ".py",
   "mimetype": "text/x-python",
   "name": "python",
   "nbconvert_exporter": "python",
   "pygments_lexer": "ipython3",
   "version": "3.10.9"
  }
 },
 "nbformat": 4,
 "nbformat_minor": 5
}
